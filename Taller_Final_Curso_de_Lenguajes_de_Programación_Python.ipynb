{
  "cells": [
    {
      "cell_type": "markdown",
      "id": "6df6463d",
      "metadata": {
        "id": "6df6463d"
      },
      "source": [
        "TALLER #4 CURSO DE LENGUAJES DE PROGRAMACIÓN PYTHON"
      ]
    },
    {
      "cell_type": "markdown",
      "id": "dee5adcd",
      "metadata": {
        "id": "dee5adcd"
      },
      "source": [
        "1) Identifica el tipo de dato (int,float,string o list) de los siguientes valores literales"
      ]
    },
    {
      "cell_type": "code",
      "execution_count": null,
      "id": "5d343d01",
      "metadata": {
        "id": "5d343d01"
      },
      "outputs": [],
      "source": [
        "a = \"Hola Mundo\"\n",
        "b = [1, 10, 100]\n",
        "c = -25\n",
        "d = 1.167\n",
        "e = [\"Hola\", \"Mundo\"]\n"
      ]
    },
    {
      "cell_type": "markdown",
      "id": "6d2f31ce",
      "metadata": {
        "id": "6d2f31ce"
      },
      "source": [
        "\"Hola Mundo\" es string"
      ]
    },
    {
      "cell_type": "code",
      "execution_count": null,
      "id": "d88b782f",
      "metadata": {
        "id": "d88b782f",
        "outputId": "0145a66e-f406-49d5-c8ca-16b56a4b93dc",
        "colab": {
          "base_uri": "https://localhost:8080/"
        }
      },
      "outputs": [
        {
          "output_type": "execute_result",
          "data": {
            "text/plain": [
              "str"
            ]
          },
          "metadata": {},
          "execution_count": 21
        }
      ],
      "source": [
        "type(a)"
      ]
    },
    {
      "cell_type": "markdown",
      "id": "edb70c71",
      "metadata": {
        "id": "edb70c71"
      },
      "source": [
        "[1, 10, 100] es list"
      ]
    },
    {
      "cell_type": "code",
      "execution_count": null,
      "id": "13470c28",
      "metadata": {
        "id": "13470c28",
        "outputId": "58f5447e-57cb-4f0f-dc3e-cb6dc6ef585d",
        "colab": {
          "base_uri": "https://localhost:8080/"
        }
      },
      "outputs": [
        {
          "output_type": "execute_result",
          "data": {
            "text/plain": [
              "list"
            ]
          },
          "metadata": {},
          "execution_count": 22
        }
      ],
      "source": [
        "type(b)"
      ]
    },
    {
      "cell_type": "markdown",
      "id": "ff47779f",
      "metadata": {
        "id": "ff47779f"
      },
      "source": [
        "-25 es int"
      ]
    },
    {
      "cell_type": "code",
      "execution_count": null,
      "id": "fba05a69",
      "metadata": {
        "id": "fba05a69",
        "outputId": "424812b6-3f50-418e-c5a1-c895e25af394",
        "colab": {
          "base_uri": "https://localhost:8080/"
        }
      },
      "outputs": [
        {
          "output_type": "execute_result",
          "data": {
            "text/plain": [
              "int"
            ]
          },
          "metadata": {},
          "execution_count": 23
        }
      ],
      "source": [
        "type(c)"
      ]
    },
    {
      "cell_type": "markdown",
      "id": "97a77da8",
      "metadata": {
        "id": "97a77da8"
      },
      "source": [
        "1.167 es float"
      ]
    },
    {
      "cell_type": "code",
      "execution_count": null,
      "id": "eba8c351",
      "metadata": {
        "id": "eba8c351",
        "outputId": "bfcfb57f-0ddb-4af0-c90e-0318f1f226bb",
        "colab": {
          "base_uri": "https://localhost:8080/"
        }
      },
      "outputs": [
        {
          "output_type": "execute_result",
          "data": {
            "text/plain": [
              "float"
            ]
          },
          "metadata": {},
          "execution_count": 24
        }
      ],
      "source": [
        "type(d)"
      ]
    },
    {
      "cell_type": "markdown",
      "id": "4eb49d07",
      "metadata": {
        "id": "4eb49d07"
      },
      "source": [
        "[\"Hola\", \"Mundo\"] es list"
      ]
    },
    {
      "cell_type": "code",
      "execution_count": null,
      "id": "9010a883",
      "metadata": {
        "id": "9010a883",
        "outputId": "0d1b3c78-f45f-4b9d-d337-73a421dd5b25",
        "colab": {
          "base_uri": "https://localhost:8080/"
        }
      },
      "outputs": [
        {
          "output_type": "execute_result",
          "data": {
            "text/plain": [
              "list"
            ]
          },
          "metadata": {},
          "execution_count": 25
        }
      ],
      "source": [
        "type(e)"
      ]
    },
    {
      "cell_type": "markdown",
      "id": "86f42ca5",
      "metadata": {
        "id": "86f42ca5"
      },
      "source": [
        "2) Operadores lógicos"
      ]
    },
    {
      "cell_type": "markdown",
      "id": "c4f4d1f4",
      "metadata": {
        "id": "c4f4d1f4"
      },
      "source": [
        "a. Crear una variable que se llama mínimo, que tenga valor de 20."
      ]
    },
    {
      "cell_type": "code",
      "execution_count": null,
      "id": "c40a2786",
      "metadata": {
        "id": "c40a2786"
      },
      "outputs": [],
      "source": [
        "minimo = 20"
      ]
    },
    {
      "cell_type": "markdown",
      "id": "53840346",
      "metadata": {
        "id": "53840346"
      },
      "source": [
        "b. Crear una variable numérica máximo dentro del valor de 500."
      ]
    },
    {
      "cell_type": "code",
      "execution_count": null,
      "id": "4290c6f1",
      "metadata": {
        "id": "4290c6f1"
      },
      "outputs": [],
      "source": [
        "maximo = 500"
      ]
    },
    {
      "cell_type": "markdown",
      "id": "f7403fdb",
      "metadata": {
        "id": "f7403fdb"
      },
      "source": [
        "c. Recoger un valor del teclado y almacenarlo en la variable dato"
      ]
    },
    {
      "cell_type": "code",
      "execution_count": null,
      "id": "508cb9ba",
      "metadata": {
        "id": "508cb9ba",
        "outputId": "52112afa-7570-4c15-e520-97c2ee4f038a",
        "colab": {
          "base_uri": "https://localhost:8080/"
        }
      },
      "outputs": [
        {
          "name": "stdout",
          "output_type": "stream",
          "text": [
            "25\n"
          ]
        }
      ],
      "source": [
        "dato = input()"
      ]
    },
    {
      "cell_type": "markdown",
      "id": "200f8cd1",
      "metadata": {
        "id": "200f8cd1"
      },
      "source": [
        "d. Convertir la variable dato en un numero y almacenarlo en la variable número"
      ]
    },
    {
      "cell_type": "code",
      "execution_count": null,
      "id": "c2eac9d8",
      "metadata": {
        "id": "c2eac9d8"
      },
      "outputs": [],
      "source": [
        "numero = int(dato)"
      ]
    },
    {
      "cell_type": "markdown",
      "id": "83bfcc30",
      "metadata": {
        "id": "83bfcc30"
      },
      "source": [
        "e. Si ese número es menor que el valor minimo entonces mostrar el texto valor bajo"
      ]
    },
    {
      "cell_type": "code",
      "execution_count": null,
      "id": "6e7acc9a",
      "metadata": {
        "id": "6e7acc9a"
      },
      "outputs": [],
      "source": [
        "if numero < minimo:\n",
        "    print(\"Valor bajo\")"
      ]
    },
    {
      "cell_type": "markdown",
      "id": "bb85359e",
      "metadata": {
        "id": "bb85359e"
      },
      "source": [
        "f. Si el número es mayor que el máximo, mostrar el texto valor alto"
      ]
    },
    {
      "cell_type": "code",
      "execution_count": null,
      "id": "ab7a6aa3",
      "metadata": {
        "id": "ab7a6aa3"
      },
      "outputs": [],
      "source": [
        "if maximo < numero:\n",
        "    print(\"Valor alto\")"
      ]
    },
    {
      "cell_type": "markdown",
      "id": "b0f8807d",
      "metadata": {
        "id": "b0f8807d"
      },
      "source": [
        "g. Si el número está entre el mínimo y el máximo. Es decir, es mayor que el mínimo y menor que el máximo mostramos el texto valor medio"
      ]
    },
    {
      "cell_type": "code",
      "execution_count": null,
      "id": "36150d4a",
      "metadata": {
        "id": "36150d4a",
        "colab": {
          "base_uri": "https://localhost:8080/"
        },
        "outputId": "8d101007-e714-4fad-eff0-df905d90c084"
      },
      "outputs": [
        {
          "output_type": "stream",
          "name": "stdout",
          "text": [
            "Valor medio\n"
          ]
        }
      ],
      "source": [
        "if minimo < numero and numero < maximo:\n",
        "    print(\"Valor medio\")"
      ]
    },
    {
      "cell_type": "markdown",
      "id": "6af42e69",
      "metadata": {
        "id": "6af42e69"
      },
      "source": [
        "3) El siguiente código pretende realizar una media entre 3 números, pero no funciona correctamente. ¿Identificar el problema y solucionarlo?"
      ]
    },
    {
      "cell_type": "markdown",
      "id": "7d566641",
      "metadata": {
        "id": "7d566641"
      },
      "source": [
        "Codigo original:"
      ]
    },
    {
      "cell_type": "code",
      "execution_count": null,
      "id": "f8438f5f",
      "metadata": {
        "id": "f8438f5f",
        "outputId": "7e4b31c5-e898-43bb-bec9-ff119ab9c639",
        "colab": {
          "base_uri": "https://localhost:8080/"
        }
      },
      "outputs": [
        {
          "output_type": "stream",
          "name": "stdout",
          "text": [
            "La nota media es 14.0\n"
          ]
        }
      ],
      "source": [
        "numero_1 = 9\n",
        "numero_2 = 3\n",
        "numero_3 = 6\n",
        "media = numero_1 + numero_2 + numero_3 / 3\n",
        "print(\"La nota media es\", media)"
      ]
    },
    {
      "cell_type": "markdown",
      "id": "34e6e291",
      "metadata": {
        "id": "34e6e291"
      },
      "source": [
        "Solución:"
      ]
    },
    {
      "cell_type": "code",
      "execution_count": null,
      "id": "165df381",
      "metadata": {
        "id": "165df381",
        "outputId": "441e4985-3257-4523-8548-65b581c3256c",
        "colab": {
          "base_uri": "https://localhost:8080/"
        }
      },
      "outputs": [
        {
          "output_type": "stream",
          "name": "stdout",
          "text": [
            "La nota media es 6.0\n"
          ]
        }
      ],
      "source": [
        "numero_1 = 9\n",
        "numero_2 = 3\n",
        "numero_3 = 6\n",
        "media = (numero_1 + numero_2 + numero_3)/ 3\n",
        "print(\"La nota media es\", media)"
      ]
    },
    {
      "cell_type": "markdown",
      "id": "e639a186",
      "metadata": {
        "id": "e639a186"
      },
      "source": [
        "Explicacióm: al no colocar parentesís, el 3 solo estaba dividiendo a numero_3, en vez de la sumatoria de los 3 numeros, por lo cual no daba un resultado correcto, al colocar los parentesís se suman primero las tres variables, y posteriormente son divididas entre 3, como debería ser"
      ]
    },
    {
      "cell_type": "markdown",
      "id": "41b746ea",
      "metadata": {
        "id": "41b746ea"
      },
      "source": [
        "4) A partir del ejercicio anterior, vamos a suponer que cada número es una nota, y lo que queremos es obtener la nota final teniendo en cuenta que cada nota tiene un valor porcentual:\n",
        "\n",
        "- La primera nota vale un 15% del total\n",
        "- La segunda nota vale un 35% del total\n",
        "- la tercera nota vale un 50% del total\n",
        "\n",
        "Desarrolla un programa para calcular perfectamente la nota final."
      ]
    },
    {
      "cell_type": "code",
      "execution_count": null,
      "id": "56128c25",
      "metadata": {
        "colab": {
          "base_uri": "https://localhost:8080/"
        },
        "id": "56128c25",
        "outputId": "b564c65e-9894-4d7c-a2ce-53255559192b"
      },
      "outputs": [
        {
          "output_type": "stream",
          "name": "stdout",
          "text": [
            "La nota final es 5.4\n"
          ]
        }
      ],
      "source": [
        "numero_1 = 9 * 15\n",
        "numero_2 = 3 * 35\n",
        "numero_3 = 6 * 50\n",
        "final = (numero_1 + numero_2 + numero_3)/100\n",
        "print(\"La nota final es\", final)"
      ]
    },
    {
      "cell_type": "markdown",
      "id": "61062a23",
      "metadata": {
        "id": "61062a23"
      },
      "source": [
        "5) Realiza un programa que lea 2 números y determine los siquientes aspectos (es suficiente con mostrar True o False)\n"
      ]
    },
    {
      "cell_type": "code",
      "source": [
        "num_1 = int(input())\n",
        "num_2 = int(input())"
      ],
      "metadata": {
        "id": "tsZ4XGI313iH",
        "colab": {
          "base_uri": "https://localhost:8080/"
        },
        "outputId": "70bb1aee-01fc-4a40-994d-eca6f18a65b4"
      },
      "id": "tsZ4XGI313iH",
      "execution_count": null,
      "outputs": [
        {
          "name": "stdout",
          "output_type": "stream",
          "text": [
            "25\n",
            "30\n"
          ]
        }
      ]
    },
    {
      "cell_type": "markdown",
      "source": [
        "Si los dos números son iguales"
      ],
      "metadata": {
        "id": "JfEWiMr812Yl"
      },
      "id": "JfEWiMr812Yl"
    },
    {
      "cell_type": "code",
      "source": [
        "if num_1 == num_2:\n",
        "  print(\"Son iguales\")"
      ],
      "metadata": {
        "id": "a6rCQSrB3FXL"
      },
      "id": "a6rCQSrB3FXL",
      "execution_count": null,
      "outputs": []
    },
    {
      "cell_type": "markdown",
      "source": [
        "Si los dos números son diferentes"
      ],
      "metadata": {
        "id": "zs9R-nFw3Fpc"
      },
      "id": "zs9R-nFw3Fpc"
    },
    {
      "cell_type": "code",
      "source": [
        "if num_1 != num_2:\n",
        "  print(\"Son diferentes\")"
      ],
      "metadata": {
        "id": "DRvuf0xw3GVq",
        "colab": {
          "base_uri": "https://localhost:8080/"
        },
        "outputId": "f04e63e9-264f-42ac-8396-3f478d80ff06"
      },
      "id": "DRvuf0xw3GVq",
      "execution_count": null,
      "outputs": [
        {
          "output_type": "stream",
          "name": "stdout",
          "text": [
            "Son diferentes\n"
          ]
        }
      ]
    },
    {
      "cell_type": "markdown",
      "source": [
        "Si el primero es mayor al segundo"
      ],
      "metadata": {
        "id": "9h14b1953GoB"
      },
      "id": "9h14b1953GoB"
    },
    {
      "cell_type": "code",
      "source": [
        "if num_1 > num_2:\n",
        "  print(\"Es mayor el primero al segundo\")"
      ],
      "metadata": {
        "id": "lk_HiMn03Gt1"
      },
      "id": "lk_HiMn03Gt1",
      "execution_count": null,
      "outputs": []
    },
    {
      "cell_type": "markdown",
      "source": [
        "Si el segundo es mayor o igual que el primero"
      ],
      "metadata": {
        "id": "YZNc7goT3hTl"
      },
      "id": "YZNc7goT3hTl"
    },
    {
      "cell_type": "code",
      "source": [
        "if num_2 >= num_1:\n",
        "  print(\"El segundo número es mayor o igual al primero\")"
      ],
      "metadata": {
        "id": "LKVmN2YT3k8L",
        "colab": {
          "base_uri": "https://localhost:8080/"
        },
        "outputId": "acc35aa2-629f-4160-c09f-1a65c15846d0"
      },
      "id": "LKVmN2YT3k8L",
      "execution_count": null,
      "outputs": [
        {
          "output_type": "stream",
          "name": "stdout",
          "text": [
            "El segundo número es mayor o igual al primero\n"
          ]
        }
      ]
    },
    {
      "cell_type": "markdown",
      "source": [
        "6) Utilizando operadores lógicos, determina si una cadena de texto introducida por el usuario tiene una longitud mayor o igual que 3 \n",
        "y a su vez es menor que 10 (es suficiente con mostrar true o false)"
      ],
      "metadata": {
        "id": "rWCXklkdHRvO"
      },
      "id": "rWCXklkdHRvO"
    },
    {
      "cell_type": "code",
      "source": [
        "texto = input()\n",
        "long_texto = len(texto)\n",
        "if long_texto >= 3 and long_texto < 10:\n",
        "  print(long_texto,\" es mayor o igual a 3 y menor a 10\")\n",
        "else:\n",
        "  print(long_texto,\" es menor a 3 o mayor a 10\")"
      ],
      "metadata": {
        "id": "i4eXjVga4BXe",
        "colab": {
          "base_uri": "https://localhost:8080/"
        },
        "outputId": "83058ac1-8751-42d3-ccb8-9e5ad2799af9"
      },
      "id": "i4eXjVga4BXe",
      "execution_count": null,
      "outputs": [
        {
          "output_type": "stream",
          "name": "stdout",
          "text": [
            "Camilo\n",
            "6  es mayor o igual a 3 y menor a 10\n"
          ]
        }
      ]
    },
    {
      "cell_type": "markdown",
      "source": [
        "7) Crea un diccionario con los siguientes pares de valores\n",
        "\n",
        "MANZANA, APPLE\n",
        "NARANJA, ORANGE\n",
        "PLÁTANO, BANANA\n",
        "LIMÓN, LEMON"
      ],
      "metadata": {
        "id": "VYzCLzzu4juq"
      },
      "id": "VYzCLzzu4juq"
    },
    {
      "cell_type": "code",
      "source": [
        "par1 = [\"MANZANA\",\"APPLE\"]\n",
        "par2 = [\"NARANJA\",\"ORANGE\"]\n",
        "par3 = [\"PLÁTANO\",\"BANANA\"]\n",
        "par4 = [\"LIMÓN\",\"LEMON\"]\n",
        "\n",
        "dicc = [par1,par2,par3,par4]"
      ],
      "metadata": {
        "id": "D-aUj-7n4zAr"
      },
      "id": "D-aUj-7n4zAr",
      "execution_count": null,
      "outputs": []
    },
    {
      "cell_type": "markdown",
      "source": [
        "Muestre la traducción para la palabra NARANJA, después añade un elemento nuevo con los valores PIÑA y PINEAPPLE y haz un bucle para mostrar todos los elementos del diccionario"
      ],
      "metadata": {
        "id": "bQLcvgiv5YxJ"
      },
      "id": "bQLcvgiv5YxJ"
    },
    {
      "cell_type": "markdown",
      "source": [
        "Traducción para la palabra NARANJA"
      ],
      "metadata": {
        "id": "GlFKVKNq5n8o"
      },
      "id": "GlFKVKNq5n8o"
    },
    {
      "cell_type": "code",
      "source": [
        "palabra_a_buscar = \"NARANJA\"\n",
        "for n in dicc:\n",
        "  if n[0] == palabra_a_buscar:\n",
        "    print(n[1])"
      ],
      "metadata": {
        "colab": {
          "base_uri": "https://localhost:8080/"
        },
        "id": "ekdIKn915rhx",
        "outputId": "d34fe6c7-9f3b-4d37-fac3-559e97dc9132"
      },
      "id": "ekdIKn915rhx",
      "execution_count": null,
      "outputs": [
        {
          "output_type": "stream",
          "name": "stdout",
          "text": [
            "ORANGE\n"
          ]
        }
      ]
    },
    {
      "cell_type": "markdown",
      "source": [
        "Añadir elemento nuevo con los valores PIÑA y PINEAPPLE"
      ],
      "metadata": {
        "id": "spWi_OlB6daF"
      },
      "id": "spWi_OlB6daF"
    },
    {
      "cell_type": "code",
      "source": [
        "add_dicc = [\"PIÑA\", \"PINEAPPLE\"]\n",
        "dicc.append(add_dicc)\n",
        "print(dicc)"
      ],
      "metadata": {
        "colab": {
          "base_uri": "https://localhost:8080/"
        },
        "id": "LreBRRRW6iWA",
        "outputId": "0010eadc-2c80-4427-8cd7-b9f44868dee3"
      },
      "id": "LreBRRRW6iWA",
      "execution_count": null,
      "outputs": [
        {
          "output_type": "stream",
          "name": "stdout",
          "text": [
            "[['MANZANA', 'APPLE'], ['NARANJA', 'ORANGE'], ['PLÁTANO', 'BANANA'], ['LIMÓN', 'LEMON'], ['PIÑA', 'PINEAPPLE']]\n"
          ]
        }
      ]
    },
    {
      "cell_type": "markdown",
      "source": [
        "Bucle para mostrar todos los elementos del diccionario"
      ],
      "metadata": {
        "id": "X9b-Lr4k678e"
      },
      "id": "X9b-Lr4k678e"
    },
    {
      "cell_type": "code",
      "source": [
        "for n in dicc:\n",
        "  print(n)"
      ],
      "metadata": {
        "colab": {
          "base_uri": "https://localhost:8080/"
        },
        "id": "LXBgZr7c6_u8",
        "outputId": "8af561c3-fcc7-41dc-9f7e-9e77aa2e48ff"
      },
      "id": "LXBgZr7c6_u8",
      "execution_count": null,
      "outputs": [
        {
          "output_type": "stream",
          "name": "stdout",
          "text": [
            "['MANZANA', 'APPLE']\n",
            "['NARANJA', 'ORANGE']\n",
            "['PLÁTANO', 'BANANA']\n",
            "['LIMÓN', 'LEMON']\n",
            "['PIÑA', 'PINEAPPLE']\n"
          ]
        }
      ]
    },
    {
      "cell_type": "markdown",
      "source": [
        "8) Realiza un programa que cumpla el siguiente algoritmo utilizando siempre que sea posible operadores en asignación:"
      ],
      "metadata": {
        "id": "Is32wAx_JMxQ"
      },
      "id": "Is32wAx_JMxQ"
    },
    {
      "cell_type": "markdown",
      "source": [
        "Guardar en una variable numero_magico el valor 12345679"
      ],
      "metadata": {
        "id": "v5EHGnm1Ja07"
      },
      "id": "v5EHGnm1Ja07"
    },
    {
      "cell_type": "code",
      "source": [
        "numero_magico = 12345679"
      ],
      "metadata": {
        "id": "O46rbN0lJaAc"
      },
      "id": "O46rbN0lJaAc",
      "execution_count": null,
      "outputs": []
    },
    {
      "cell_type": "markdown",
      "source": [
        "Cree una variable con nombre numero_usuario, especifica que sea entre 1 y 9"
      ],
      "metadata": {
        "id": "VRywHAT1Jkrw"
      },
      "id": "VRywHAT1Jkrw"
    },
    {
      "cell_type": "code",
      "source": [
        "numero_usuario = 0\n",
        "e = False\n",
        "while e == False:\n",
        "  numero_usuario = int(input(\"Ingrese un numero que esté entre el 1 y el 9\"))\n",
        "  if 1 <= numero_usuario and numero_usuario <= 9:\n",
        "    e = True\n",
        "  else:\n",
        "    print(\"El número no está entre el 1 y el 9\")"
      ],
      "metadata": {
        "colab": {
          "base_uri": "https://localhost:8080/"
        },
        "id": "Gu00CBgBJ8Cd",
        "outputId": "e74eac20-3f0a-479f-8059-85876342ec95"
      },
      "id": "Gu00CBgBJ8Cd",
      "execution_count": null,
      "outputs": [
        {
          "name": "stdout",
          "output_type": "stream",
          "text": [
            "Ingrese un numero que esté entre el 1 y el 912\n",
            "El número no está entre el 1 y el 9\n",
            "Ingrese un numero que esté entre el 1 y el 95\n"
          ]
        }
      ]
    },
    {
      "cell_type": "markdown",
      "source": [
        "Multiplica el numero_usuario por 9 en sí mismo"
      ],
      "metadata": {
        "id": "5pDeJAv9K7rT"
      },
      "id": "5pDeJAv9K7rT"
    },
    {
      "cell_type": "code",
      "source": [
        "numero_usuario = numero_usuario * 9"
      ],
      "metadata": {
        "id": "lSQ3hqtiLAYQ"
      },
      "id": "lSQ3hqtiLAYQ",
      "execution_count": null,
      "outputs": []
    },
    {
      "cell_type": "markdown",
      "source": [
        "Multiplica el numero_magico por el numero_usuario"
      ],
      "metadata": {
        "id": "M3454rOCLHBm"
      },
      "id": "M3454rOCLHBm"
    },
    {
      "cell_type": "code",
      "source": [
        "numero_magico = numero_magico * numero_usuario"
      ],
      "metadata": {
        "id": "S2uZkreDLL4y"
      },
      "id": "S2uZkreDLL4y",
      "execution_count": null,
      "outputs": []
    },
    {
      "cell_type": "markdown",
      "source": [
        "Finalmente muestra el valor final del numero_magico por pantalla"
      ],
      "metadata": {
        "id": "ES9HnIAsLY-d"
      },
      "id": "ES9HnIAsLY-d"
    },
    {
      "cell_type": "code",
      "source": [
        "print(numero_magico)"
      ],
      "metadata": {
        "colab": {
          "base_uri": "https://localhost:8080/"
        },
        "id": "JdApSG_gLfUy",
        "outputId": "fa807e7f-23d1-4c98-c1b8-68695361745a"
      },
      "id": "JdApSG_gLfUy",
      "execution_count": null,
      "outputs": [
        {
          "output_type": "stream",
          "name": "stdout",
          "text": [
            "555555555\n"
          ]
        }
      ]
    },
    {
      "cell_type": "markdown",
      "source": [
        "9) Realiza una función que va a tener 3 parámetros\n",
        "\n",
        "Número 1\n",
        "Número 2\n",
        "Opción\n",
        "\n",
        "- Si la opción es 1 Mostrar una suma de los dos números\n",
        "- Si la opción es 2 Mostrar una resta de los dos números (el primero menos el segundo)\n",
        "- Si la opción es 3 Mostrar una multiplicación de los dos números"
      ],
      "metadata": {
        "id": "fzaZaRfa7FN7"
      },
      "id": "fzaZaRfa7FN7"
    },
    {
      "cell_type": "code",
      "source": [
        "def mi_excelente_funcion(numero1,numero2,opcion):\n",
        "  if opcion == 1:\n",
        "    sol = numero1 + numero2\n",
        "  elif opcion == 2:\n",
        "    sol = numero1 - numero2\n",
        "  elif opcion == 3:\n",
        "    sol = numero1 * numero2\n",
        "  print(sol)"
      ],
      "metadata": {
        "id": "WnxwaIlV7fWe"
      },
      "id": "WnxwaIlV7fWe",
      "execution_count": null,
      "outputs": []
    },
    {
      "cell_type": "markdown",
      "source": [
        "Opcion 1"
      ],
      "metadata": {
        "id": "K4Wx4r498--0"
      },
      "id": "K4Wx4r498--0"
    },
    {
      "cell_type": "code",
      "source": [
        "mi_excelente_funcion(5,10,1)"
      ],
      "metadata": {
        "colab": {
          "base_uri": "https://localhost:8080/"
        },
        "id": "ZgiK3V_38JGy",
        "outputId": "82132a12-2b85-4ad8-ee25-bb4a3458a1ec"
      },
      "id": "ZgiK3V_38JGy",
      "execution_count": null,
      "outputs": [
        {
          "output_type": "stream",
          "name": "stdout",
          "text": [
            "15\n"
          ]
        }
      ]
    },
    {
      "cell_type": "markdown",
      "source": [
        "Opcion 2"
      ],
      "metadata": {
        "id": "dx0rU-GS9Fnt"
      },
      "id": "dx0rU-GS9Fnt"
    },
    {
      "cell_type": "code",
      "source": [
        "mi_excelente_funcion(64,24,2)"
      ],
      "metadata": {
        "colab": {
          "base_uri": "https://localhost:8080/"
        },
        "id": "a2q5p7-G9C-Q",
        "outputId": "79bd47ea-3db2-4f46-d26c-1c2449fbf787"
      },
      "id": "a2q5p7-G9C-Q",
      "execution_count": null,
      "outputs": [
        {
          "output_type": "stream",
          "name": "stdout",
          "text": [
            "40\n"
          ]
        }
      ]
    },
    {
      "cell_type": "markdown",
      "source": [
        "Opcion 3"
      ],
      "metadata": {
        "id": "QDHwQsQs9Omt"
      },
      "id": "QDHwQsQs9Omt"
    },
    {
      "cell_type": "code",
      "source": [
        "mi_excelente_funcion(4,12,3)"
      ],
      "metadata": {
        "colab": {
          "base_uri": "https://localhost:8080/"
        },
        "id": "4vcMtoVY9RYN",
        "outputId": "1feb9090-105b-472d-f5c4-7e2ffa043910"
      },
      "id": "4vcMtoVY9RYN",
      "execution_count": null,
      "outputs": [
        {
          "output_type": "stream",
          "name": "stdout",
          "text": [
            "48\n"
          ]
        }
      ]
    },
    {
      "cell_type": "markdown",
      "source": [
        "10) Realiza una función que tenga un parámetro que reciba un número, la cual debe determinar si el número ingresado corresponde a un número par o impar retornar respuesta que indique si el número es par o impar"
      ],
      "metadata": {
        "id": "LFoctWsE9jBf"
      },
      "id": "LFoctWsE9jBf"
    },
    {
      "cell_type": "code",
      "source": [
        "def otra_funcion(numero):\n",
        "  if numero % 2 == 0:\n",
        "    print(\"Es par\")\n",
        "  else:\n",
        "    print(\"Es impar\")"
      ],
      "metadata": {
        "id": "I4j2lpjS96NY"
      },
      "id": "I4j2lpjS96NY",
      "execution_count": null,
      "outputs": []
    },
    {
      "cell_type": "code",
      "source": [
        "numero = int(input())\n",
        "otra_funcion(numero)"
      ],
      "metadata": {
        "colab": {
          "base_uri": "https://localhost:8080/"
        },
        "id": "nfSSi77I-0Hy",
        "outputId": "b538bf6c-f044-4a37-9a81-71b832a1524b"
      },
      "id": "nfSSi77I-0Hy",
      "execution_count": null,
      "outputs": [
        {
          "output_type": "stream",
          "name": "stdout",
          "text": [
            "24\n",
            "Es par\n"
          ]
        }
      ]
    },
    {
      "cell_type": "markdown",
      "source": [
        "11) Realiza un programa que sume todos los números pares desde 0 hasta el 100:\n",
        "\n",
        "Sugerencia: Puedes utilizar la funciones sum() y range() para hacerlo más fácil. El tercer parámetro en la función range(inicio, fin, salto) indica un salto de números, pruébalo."
      ],
      "metadata": {
        "id": "O7FNQI2X_CNn"
      },
      "id": "O7FNQI2X_CNn"
    },
    {
      "cell_type": "code",
      "source": [
        "rango = range(0,100,2)\n",
        "suma = []\n",
        "for n in rango:\n",
        "  suma.append(n)\n",
        "suma_total = sum(suma)\n",
        "print(suma_total)\n"
      ],
      "metadata": {
        "id": "arU6X7D9_UM4",
        "colab": {
          "base_uri": "https://localhost:8080/"
        },
        "outputId": "0afa96f1-07a2-47a6-8efc-ccb142f4ccbb"
      },
      "id": "arU6X7D9_UM4",
      "execution_count": null,
      "outputs": [
        {
          "output_type": "stream",
          "name": "stdout",
          "text": [
            "2450\n"
          ]
        }
      ]
    },
    {
      "cell_type": "markdown",
      "source": [
        "12) Dadas dos listas, debes generar una tercera con todos los elementos que se repitan en ellas, pero no debe repeturse ningún elemento en la nueva lista:"
      ],
      "metadata": {
        "id": "5bt-Lj8k_U7I"
      },
      "id": "5bt-Lj8k_U7I"
    },
    {
      "cell_type": "code",
      "source": [
        "lista_1 = [\"h\",'o','l','a',' ', 'm','u','n','d','o']\n",
        "lista_2 = [\"h\",'o','l','a',' ', 'l','u','n','a']\n",
        "\n",
        "lista_3 = []\n",
        "for n in lista_1:\n",
        "  for m in lista_2:\n",
        "    if n  == m:\n",
        "      if n not in lista_3:\n",
        "        lista_3.append(n)\n",
        "\n",
        "print(lista_3)"
      ],
      "metadata": {
        "colab": {
          "base_uri": "https://localhost:8080/"
        },
        "id": "5R0HVonU_mCx",
        "outputId": "7b85d3f3-7621-40f0-ebd5-cbf8c785a982"
      },
      "id": "5R0HVonU_mCx",
      "execution_count": null,
      "outputs": [
        {
          "output_type": "stream",
          "name": "stdout",
          "text": [
            "['h', 'o', 'l', 'a', ' ', 'u', 'n']\n"
          ]
        }
      ]
    },
    {
      "cell_type": "markdown",
      "source": [
        "13) Utilzando una condición if-elif-else debes realizar un programa que compare la longitud de dos variables (cadena_1 y cadena_2) y en función del resultado almacene un valor en otra variable llamada resultado"
      ],
      "metadata": {
        "id": "ifK7CjHn_5rn"
      },
      "id": "ifK7CjHn_5rn"
    },
    {
      "cell_type": "code",
      "source": [
        "CADENA_1 = input(\"Cadena 1 \")\n",
        "cadena_1_len = len(CADENA_1)\n",
        "CADENA_2 = input(\"Cadena 2 \")\n",
        "cadena_2_len = len(CADENA_2)\n",
        "\n",
        "resultado = 0"
      ],
      "metadata": {
        "id": "x08M39_FBIcW",
        "colab": {
          "base_uri": "https://localhost:8080/"
        },
        "outputId": "08c210fe-c964-45c2-805b-09c9027c79d6"
      },
      "id": "x08M39_FBIcW",
      "execution_count": null,
      "outputs": [
        {
          "name": "stdout",
          "output_type": "stream",
          "text": [
            "Cadena 1 Camilo\n",
            "Cadena 2 Juan\n"
          ]
        }
      ]
    },
    {
      "cell_type": "markdown",
      "source": [
        "Si **cadena_1** es más larga que **cadena_2** la variable resultada deberá tener el valor entero 1"
      ],
      "metadata": {
        "id": "bV_OOsHXNvr1"
      },
      "id": "bV_OOsHXNvr1"
    },
    {
      "cell_type": "code",
      "source": [
        "if cadena_1_len > cadena_2_len:\n",
        "  print(\"Cadena 1 es más larga que la cadena 2\")\n",
        "  resultado = 1\n",
        "  print(\"Resultado: \",resultado)"
      ],
      "metadata": {
        "colab": {
          "base_uri": "https://localhost:8080/"
        },
        "id": "gWuBdy8VN_kN",
        "outputId": "bf4441a2-7b9b-43c5-bfc3-7576a67ad54e"
      },
      "id": "gWuBdy8VN_kN",
      "execution_count": null,
      "outputs": [
        {
          "output_type": "stream",
          "name": "stdout",
          "text": [
            "Cadena 1 es más larga que la cadena 2\n",
            "Resultado:  1\n"
          ]
        }
      ]
    },
    {
      "cell_type": "markdown",
      "source": [
        "Si **cadena_1** es más corta que **cadena_2** la variable resultada deberá tener el valor entero 2"
      ],
      "metadata": {
        "id": "eFGTNcXWO4bH"
      },
      "id": "eFGTNcXWO4bH"
    },
    {
      "cell_type": "code",
      "source": [
        "if cadena_1_len < cadena_2_len:\n",
        "  print(\"Cadena 2 es más larga que la cadena 1\")\n",
        "  resultado = 2\n",
        "  print(\"Resultado: \",resultado)"
      ],
      "metadata": {
        "id": "LdRw-cwlO-QY"
      },
      "id": "LdRw-cwlO-QY",
      "execution_count": null,
      "outputs": []
    },
    {
      "cell_type": "markdown",
      "source": [
        "Si cadena_1 tiene la misma longitud que cadena_2 la variable resultada deberá tener el valor entero 0\n"
      ],
      "metadata": {
        "id": "xs6LF_4cPTdh"
      },
      "id": "xs6LF_4cPTdh"
    },
    {
      "cell_type": "code",
      "source": [
        "if cadena_1_len < cadena_2_len:\n",
        "  print(\"Cadena 2 es más larga que la cadena 1\")\n",
        "  resultado = 0\n",
        "  print(\"Resultado: \",resultado)"
      ],
      "metadata": {
        "id": "-Olhj865Po8x"
      },
      "id": "-Olhj865Po8x",
      "execution_count": null,
      "outputs": []
    },
    {
      "cell_type": "markdown",
      "source": [
        "14) Realiza un programa que lea un número impar por teclado. Si el usuario no introduce un número impar, debe repetirse el proceso hasta que lo introduzca correctamente"
      ],
      "metadata": {
        "id": "BDU6XUJhBJbD"
      },
      "id": "BDU6XUJhBJbD"
    },
    {
      "cell_type": "code",
      "source": [
        "val = False\n",
        "while val == False:\n",
        "  par = int(input(\"Ingrese un número impar\"))\n",
        "  if par % 2 ==0:\n",
        "    print(\"Error, el número ingresado no es impar\")\n",
        "  else:\n",
        "    val = True\n",
        "print(\"Es impar... ha finalizado el programa\")\n"
      ],
      "metadata": {
        "id": "fwt0-hyrBrRu",
        "colab": {
          "base_uri": "https://localhost:8080/"
        },
        "outputId": "7094a284-2c82-4ace-ed8f-4cc095955cf0"
      },
      "id": "fwt0-hyrBrRu",
      "execution_count": null,
      "outputs": [
        {
          "output_type": "stream",
          "name": "stdout",
          "text": [
            "Ingrese un número impar82\n",
            "Error, el número ingresado no es impar\n",
            "Ingrese un número impar44\n",
            "Error, el número ingresado no es impar\n",
            "Ingrese un número impar3\n",
            "Es impar... ha finalizado el programa\n"
          ]
        }
      ]
    },
    {
      "cell_type": "markdown",
      "source": [
        "15) Realiza una función llamada area_rectangulo() que devuelva el área del rectángulo a partir de una base y una altura. Calcula el área de un rectángulo de 15 de base y 10 de altura.\n",
        "Nota: El área de un rectángulo se obtiene al multiplicar la base por la altura."
      ],
      "metadata": {
        "id": "LsJfpOCLAtTF"
      },
      "id": "LsJfpOCLAtTF"
    },
    {
      "cell_type": "code",
      "source": [
        "def area_rectangulo(base,altura):\n",
        "  area=base*altura\n",
        "  print(area)"
      ],
      "metadata": {
        "id": "-ZAzJdNgA07a"
      },
      "id": "-ZAzJdNgA07a",
      "execution_count": null,
      "outputs": []
    },
    {
      "cell_type": "code",
      "source": [
        "area_rectangulo(15,10)"
      ],
      "metadata": {
        "colab": {
          "base_uri": "https://localhost:8080/"
        },
        "id": "2l3dw6fbA_2n",
        "outputId": "4510614e-b5cc-4294-fbc1-8419834938cd"
      },
      "id": "2l3dw6fbA_2n",
      "execution_count": null,
      "outputs": [
        {
          "output_type": "stream",
          "name": "stdout",
          "text": [
            "150\n"
          ]
        }
      ]
    },
    {
      "cell_type": "markdown",
      "source": [
        "16) Realiza un programa que pida al usuario un número entero del 0 al 9, y que mientras el número no sea correcto se repita el proceso. Luego debe comprobar si el número se encuentra en la lista de números y notificarlo"
      ],
      "metadata": {
        "id": "eWS2tY5hAXfK"
      },
      "id": "eWS2tY5hAXfK"
    },
    {
      "cell_type": "code",
      "source": [
        "numero = -1\n",
        "while numero < 0 or numero > 9:\n",
        "  numero = int(input(\"Ingrese un número entero del 0 al 9 \"))\n",
        "  if numero < 0 or numero > 9:\n",
        "    print(\"No cumple las condiciones\")\n",
        "print(\"El número \",numero,\" si cumple las condiciones\")"
      ],
      "metadata": {
        "id": "Mfizg5w5RZuJ",
        "colab": {
          "base_uri": "https://localhost:8080/"
        },
        "outputId": "a8296de0-9458-4b1d-9bb5-c7eec629b8fe"
      },
      "id": "Mfizg5w5RZuJ",
      "execution_count": 83,
      "outputs": [
        {
          "output_type": "stream",
          "name": "stdout",
          "text": [
            "Ingrese un número entero del 0 al 9 65\n",
            "No cumple las condiciones\n",
            "Ingrese un número entero del 0 al 9 85\n",
            "No cumple las condiciones\n",
            "Ingrese un número entero del 0 al 9 -25\n",
            "No cumple las condiciones\n",
            "Ingrese un número entero del 0 al 9 5\n",
            "El número  5  si cumple las condiciones\n"
          ]
        }
      ]
    },
    {
      "cell_type": "markdown",
      "source": [
        "17) Crear una función lambda que calcule la media de tres notas."
      ],
      "metadata": {
        "id": "iuK9Ku3eARdE"
      },
      "id": "iuK9Ku3eARdE"
    },
    {
      "cell_type": "code",
      "source": [
        "funcion_lambda = lambda x,y,z : (x+y+z)/3\n",
        "print(funcion_lambda(5,6,2))"
      ],
      "metadata": {
        "colab": {
          "base_uri": "https://localhost:8080/"
        },
        "id": "3Q9HPUY-TdHr",
        "outputId": "9f977567-d450-4fbc-abe0-2297a2b31004"
      },
      "id": "3Q9HPUY-TdHr",
      "execution_count": null,
      "outputs": [
        {
          "output_type": "stream",
          "name": "stdout",
          "text": [
            "4.333333333333333\n"
          ]
        }
      ]
    }
  ],
  "metadata": {
    "kernelspec": {
      "display_name": "Python 3 (ipykernel)",
      "language": "python",
      "name": "python3"
    },
    "language_info": {
      "codemirror_mode": {
        "name": "ipython",
        "version": 3
      },
      "file_extension": ".py",
      "mimetype": "text/x-python",
      "name": "python",
      "nbconvert_exporter": "python",
      "pygments_lexer": "ipython3",
      "version": "3.10.4"
    },
    "colab": {
      "name": "Taller Final Curso de Lenguajes de Programación Python.ipynb",
      "provenance": []
    }
  },
  "nbformat": 4,
  "nbformat_minor": 5
}